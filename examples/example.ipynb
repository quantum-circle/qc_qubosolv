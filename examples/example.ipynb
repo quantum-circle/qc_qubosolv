{
 "cells": [
  {
   "cell_type": "markdown",
   "metadata": {},
   "source": [
    "# Simulated Quantum Annealing Solver \n",
    "\n",
    "----\n",
    "\n",
    "###### Note:\n",
    "If you viewing this notebook directly at github.com, the LaTeX formulas may not be rendered correctly. \n",
    "Thus, we highly recommend to use [nbviewer](https://nbviewer.jupyter.org/) for this purpose. \n",
    "\n",
    "You can view this notebook directly at: https://nbviewer.jupyter.org/github/quantum-circle/qc_qubosolv/blob/master/examples/example.ipynb\n",
    "\n",
    "---\n",
    "\n",
    "<br>\n",
    "\n",
    "## A Minimal Example\n",
    "\n",
    "In order to solve a QUBO, we can use main incubator's high performance Simulated (Quantum) Annealing solver to estimate the bitstring $\\mathbf{x}$, that minimizes the objective function. To do so, we simply need to:\n",
    "\n",
    "1. Intialize the solver client `qc_qubosolv.Solver` with our Quantum Circle Developer credentials.\n",
    "2. Submit the `qubo_matrix` and `qubo_offset` objects via the solver's API and select an appropriate algorithm, e.g. \"sqa\" for Simulated Quantum Annealing."
   ]
  },
  {
   "cell_type": "code",
   "execution_count": 1,
   "metadata": {},
   "outputs": [
    {
     "name": "stdout",
     "output_type": "stream",
     "text": [
      "Optimal bitstring: x = [0 1]\n",
      "Optimal energy: f(x) = -4.0\n"
     ]
    }
   ],
   "source": [
    "from qc_qubosolv import Solver\n",
    "\n",
    "\n",
    "# 1. Create the QUBO matrix to be solved\n",
    "qubo_matrix = [\n",
    "    [-1, 2], \n",
    "    [2, -4]\n",
    "]\n",
    "\n",
    "# 2. Initialize the solver client\n",
    "solver = Solver(\n",
    "    username='YOUR_USERNAME_HERE', \n",
    "    password='YOUR_PASSWORD_HERE'\n",
    ")\n",
    "\n",
    "# 3. Solve the previously created QUBO problem\n",
    "result = solver.solve(qubo_matrix, algorithm='sqa')\n",
    "\n",
    "# 4. Print the optimal bitstring and its corresponding objective function value\n",
    "print(f\"Optimal bitstring: x = {result.optimal_bitstring}\")\n",
    "print(f\"Optimal energy: f(x) = {result.optimal_energy}\")"
   ]
  },
  {
   "cell_type": "markdown",
   "metadata": {},
   "source": [
    "## Generate and Solve QUBO Models\n",
    "\n",
    "#### Note\n",
    "For this example, you will need to have Quantum Circle's QUBO generator module `qc_qubogen` installed.\n",
    "\n",
    "\n",
    "### Generate a QUBO\n",
    "To illustrate a slightly more advanced example, we choose to solve the optimization problem given by Glover et. al.$^{[1]}$:\n",
    "\n",
    "$$ f(\\mathbf{x}) = -5x_0 -3x_1 -8x_2 -6x_3 + 4x_0x_1 + 8x_0x_2 + 2x_1x_2 + 10x_2x_3 \\; ,$$\n",
    "\n",
    "which will be converted to the QUBO problem:\n",
    "\n",
    "$$ f(\\mathbf{x})  = \\left(\\begin{matrix} x_0 & x_1 & x_3 & x_4 \\end{matrix}\\right) \\left(\\begin{matrix} -5 & 2 & 4 & 0 \\\\ 2 & -3 & 1 & 0 \\\\ 4 & 1 & -8 & 5 \\\\ 0 & 0 & 5 & -6 \\end{matrix} \\right) \\left(\\begin{matrix} x_0\\\\ x_1 \\\\ x_2 \\\\ x_3 \\end{matrix}\\right) $$\n",
    "\n",
    "Note that we omit the constant offset $c$ here, since $c = 0$.\n",
    "\n",
    "<br>\n",
    "\n",
    "Here, we're going to use the `qc_qubogen` module's QUBO generator `QUBOModel` and helper function `qc_qubogen.get_symbolic_binary_variables(n=4)` .\n",
    "\n",
    "---\n",
    "\n",
    "[1] Glover, F., Kochenberger, G. and Du, Yu. Quantum Bridge Analytics I: a tutorial on formulating and using QUBO models. *Available at:* https://arxiv.org/pdf/1811.11538.pdf"
   ]
  },
  {
   "cell_type": "code",
   "execution_count": 2,
   "metadata": {},
   "outputs": [
    {
     "name": "stdout",
     "output_type": "stream",
     "text": [
      "QUBO matrix: Q = \n",
      "[[-5.  2.  4.  0.]\n",
      " [ 2. -3.  1.  0.]\n",
      " [ 4.  1. -8.  5.]\n",
      " [ 0.  0.  5. -6.]]\n"
     ]
    }
   ],
   "source": [
    "from qc_qubogen import QUBOModel, get_symbolic_binary_variables\n",
    "\n",
    "\n",
    "# 1. Create a list of symbolic binary variables (sympy.Symbol)\n",
    "x = get_symbolic_binary_variables(n=4)\n",
    "\n",
    "# 2. Define the objective function to be minimized\n",
    "objective = - 5*x[0] - 3*x[1] - 8*x[2] - 6*x[3] + 4*x[0]*x[1] + 8*x[0]*x[2] + 2*x[1]*x[2] + 10*x[2]*x[3]\n",
    "\n",
    "# 3. Initialize the `QUBOModel` using the created objective function\n",
    "model = QUBOModel(objective)\n",
    "\n",
    "# 4. Convert the problem and return the QUBO matrix and offset constant\n",
    "qubo_matrix, qubo_offset = model.model_to_qubo(return_offset=True)\n",
    "\n",
    "print(f\"QUBO matrix: Q = \\n{qubo_matrix}\")"
   ]
  },
  {
   "cell_type": "markdown",
   "metadata": {},
   "source": [
    "## Solve the QUBO"
   ]
  },
  {
   "cell_type": "code",
   "execution_count": 3,
   "metadata": {},
   "outputs": [
    {
     "name": "stdout",
     "output_type": "stream",
     "text": [
      "Optimal bitstring: x = [1 0 0 1]\n",
      "Optimal energy: f(x) = -11.0\n"
     ]
    }
   ],
   "source": [
    "from qc_qubosolv import Solver\n",
    "\n",
    "\n",
    "solver = Solver(\n",
    "    username='YOUR_USERNAME_HERE', \n",
    "    password='YOUR_PASSWORD_HERE'\n",
    ")\n",
    "\n",
    "result = solver.solve(qubo_matrix, qubo_offset, algorithm='sqa')\n",
    "\n",
    "print(f\"Optimal bitstring: x = {result.optimal_bitstring}\")\n",
    "print(f\"Optimal energy: f(x) = {result.optimal_energy}\")"
   ]
  }
 ],
 "metadata": {
  "kernelspec": {
   "display_name": "Python 3",
   "language": "python",
   "name": "python3"
  },
  "language_info": {
   "codemirror_mode": {
    "name": "ipython",
    "version": 3
   },
   "file_extension": ".py",
   "mimetype": "text/x-python",
   "name": "python",
   "nbconvert_exporter": "python",
   "pygments_lexer": "ipython3",
   "version": "3.7.4"
  }
 },
 "nbformat": 4,
 "nbformat_minor": 4
}
